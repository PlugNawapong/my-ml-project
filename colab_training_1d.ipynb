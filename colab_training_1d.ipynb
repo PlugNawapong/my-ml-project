{
 "cells": [
  {
   "cell_type": "markdown",
   "metadata": {},
   "source": [
    "# Hyperspectral Material Classification - 1D CNN Approach\n",
    "\n",
    "This notebook trains and evaluates a 1D CNN model for hyperspectral material classification.\n",
    "\n",
    "**Features:**\n",
    "- 1D CNN architecture (processes spectral signatures pixel-by-pixel)\n",
    "- Band-wise percentile normalization (2-98%)\n",
    "- Gaussian denoising after normalization\n",
    "- Spectral augmentation for better generalization\n",
    "- Industry-standard post-processing\n",
    "\n",
    "**Before running:**\n",
    "1. Runtime → Change runtime type → GPU (A100/V100 for Pro+, T4 for free tier)\n",
    "2. Upload your data to Google Drive in folder: `dl-plastics-data`\n",
    "3. Run cells in order\n",
    "\n",
    "**Note:** All models are saved to Google Drive automatically!"
   ]
  },
  {
   "cell_type": "markdown",
   "metadata": {},
   "source": [
    "## 1. Setup Environment"
   ]
  },
  {
   "cell_type": "code",
   "execution_count": null,
   "metadata": {},
   "outputs": [],
   "source": [
    "# Check GPU availability\n",
    "!nvidia-smi"
   ]
  },
  {
   "cell_type": "code",
   "execution_count": null,
   "metadata": {},
   "outputs": [],
   "source": [
    "# Clone repository\n",
    "!git clone https://github.com/PlugNawapong/my-ml-project.git\n",
    "%cd my-ml-project\n",
    "!pwd"
   ]
  },
  {
   "cell_type": "code",
   "execution_count": null,
   "metadata": {},
   "outputs": [],
   "source": [
    "# Install dependencies\n",
    "!pip install -q torch torchvision tqdm Pillow numpy matplotlib scikit-learn scipy scikit-image"
   ]
  },
  {
   "cell_type": "markdown",
   "metadata": {},
   "source": [
    "## 2. Mount Google Drive and Load Data"
   ]
  },
  {
   "cell_type": "code",
   "execution_count": null,
   "metadata": {},
   "outputs": [],
   "source": [
    "# Mount Google Drive\n",
    "from google.colab import drive\n",
    "drive.mount('/content/drive')\n",
    "\n",
    "# Create output directories\n",
    "!mkdir -p /content/drive/MyDrive/dl-plastics-models\n",
    "!mkdir -p /content/drive/MyDrive/dl-plastics-predictions\n",
    "\n",
    "print('✓ Google Drive mounted')\n",
    "print('✓ Output directories created')"
   ]
  },
  {
   "cell_type": "code",
   "execution_count": null,
   "metadata": {},
   "outputs": [],
   "source": [
    "# Copy data from Google Drive to Colab workspace\n",
    "import os\n",
    "\n",
    "# Path to your data in Google Drive\n",
    "drive_data_path = '/content/drive/MyDrive/dl-plastics-data'\n",
    "\n",
    "# Verify data exists\n",
    "if not os.path.exists(drive_data_path):\n",
    "    print(f'⚠ ERROR: {drive_data_path} not found!')\n",
    "    print('Please upload your data to Google Drive first.')\n",
    "else:\n",
    "    print(f'✓ Data folder found: {drive_data_path}')\n",
    "    !ls -la {drive_data_path}\n",
    "\n",
    "# Copy training data\n",
    "if os.path.exists(f'{drive_data_path}/data'):\n",
    "    !cp -r {drive_data_path}/data ./\n",
    "    print('✓ Training data copied')\n",
    "else:\n",
    "    print('⚠ Training data not found')\n",
    "\n",
    "# Copy inference datasets\n",
    "if os.path.exists(f'{drive_data_path}/inference_data_set1'):\n",
    "    !cp -r {drive_data_path}/inference_data_set1 ./\n",
    "    print('✓ Inference dataset 1 copied')\n",
    "\n",
    "if os.path.exists(f'{drive_data_path}/inference_data_set2'):\n",
    "    !cp -r {drive_data_path}/inference_data_set2 ./\n",
    "    print('✓ Inference dataset 2 copied')\n",
    "\n",
    "print('\\n=== Files in workspace ===')\n",
    "!ls -la"
   ]
  },
  {
   "cell_type": "markdown",
   "metadata": {},
   "source": [
    "## 3. Inspect Data (Optional)"
   ]
  },
  {
   "cell_type": "code",
   "execution_count": null,
   "metadata": {},
   "outputs": [],
   "source": [
    "# Inspect training data\n",
    "!python inspect_data.py --data_dir data\n",
    "\n",
    "# Display generated plots\n",
    "from IPython.display import Image, display\n",
    "\n",
    "print('\\n=== Band Visualization ===')\n",
    "display(Image('data_inspection_bands.png'))\n",
    "\n",
    "print('\\n=== Label Visualization ===')\n",
    "display(Image('data_inspection_labels.png'))\n",
    "\n",
    "print('\\n=== Spectral Signatures ===')\n",
    "display(Image('data_inspection_spectra_normalized.png'))"
   ]
  },
  {
   "cell_type": "markdown",
   "metadata": {},
   "source": [
    "## 4. Train 1D CNN Model\n",
    "\n",
    "**Training configuration:**\n",
    "- Model: 1D CNN (spectral_cnn_1d)\n",
    "- Normalization: Band-wise percentile (2-98%) + Gaussian denoising\n",
    "- Augmentation: Medium spectral augmentation\n",
    "- Epochs: 100\n",
    "- Batch size: 4096\n",
    "- Dropout: 0.6 (high regularization for generalization)\n",
    "\n",
    "**Training time:** ~10-15 minutes on A100, ~30-40 minutes on T4"
   ]
  },
  {
   "cell_type": "code",
   "execution_count": null,
   "metadata": {},
   "outputs": [],
   "source": [
    "# Train 1D CNN model\n",
    "!python train.py \\\n",
    "    --model spectral_cnn_1d \\\n",
    "    --epochs 100 \\\n",
    "    --batch_size 4096 \\\n",
    "    --max_samples_per_class 20000 \\\n",
    "    --dropout 0.6 \\\n",
    "    --lr 0.001 \\\n",
    "    --spectral_augment medium \\\n",
    "    --norm_method percentile \\\n",
    "    --output_dir /content/drive/MyDrive/dl-plastics-models \\\n",
    "    --num_workers 0\n",
    "\n",
    "print('\\n✓ Training complete! Model saved to Google Drive.')"
   ]
  },
  {
   "cell_type": "markdown",
   "metadata": {},
   "source": [
    "## 5. Find Trained Model"
   ]
  },
  {
   "cell_type": "code",
   "execution_count": null,
   "metadata": {},
   "outputs": [],
   "source": [
    "# Find the latest trained model\n",
    "import glob\n",
    "import os\n",
    "import re\n",
    "\n",
    "# Search for 1D CNN models only\n",
    "model_files = glob.glob('/content/drive/MyDrive/dl-plastics-models/spectral_cnn_1d_*/best_model.pth')\n",
    "\n",
    "print(f'Found {len(model_files)} model(s):')\n",
    "for m in model_files:\n",
    "    print(f'  - {m}')\n",
    "\n",
    "if model_files:\n",
    "    # Sort by timestamp\n",
    "    def extract_timestamp(path):\n",
    "        match = re.search(r'(\\d{8}_\\d{6})', path)\n",
    "        if match:\n",
    "            return match.group(1)\n",
    "        return '00000000_000000'\n",
    "\n",
    "    latest_model = sorted(model_files, key=extract_timestamp)[-1]\n",
    "    print(f'\\n✓ Using latest model: {latest_model}')\n",
    "    print(f'Timestamp: {extract_timestamp(latest_model)}')\n",
    "    \n",
    "    model_type = 'spectral_cnn_1d'\n",
    "else:\n",
    "    print('\\n⚠ No trained model found!')\n",
    "    print('Please run the training cell first.')"
   ]
  },
  {
   "cell_type": "markdown",
   "metadata": {},
   "source": [
    "## 6. Run Inference on Dataset 1"
   ]
  },
  {
   "cell_type": "code",
   "execution_count": null,
   "metadata": {},
   "outputs": [],
   "source": [
    "# Run inference on dataset 1 (no post-processing needed - usually clean)\n",
    "if model_files:\n",
    "    print(f'Running inference on dataset 1...')\n",
    "    !python inference.py \\\n",
    "        --checkpoint {latest_model} \\\n",
    "        --model {model_type} \\\n",
    "        --data_dir /content/my-ml-project/inference_data_set1 \\\n",
    "        --norm_method percentile \\\n",
    "        --output_dir /content/drive/MyDrive/dl-plastics-predictions\n",
    "\n",
    "    print('\\n✓ Inference complete for dataset 1!')\n",
    "else:\n",
    "    print('⚠ No model available for inference')"
   ]
  },
  {
   "cell_type": "markdown",
   "metadata": {},
   "source": [
    "## 7. Run Inference on Dataset 2 (with Post-Processing)\n",
    "\n",
    "**Post-processing configuration:**\n",
    "- Remove small regions < 50 pixels (noise reduction)\n",
    "- Median filter for isolated pixel noise\n",
    "- Morphological operations per class\n",
    "- Edge detection for material boundaries"
   ]
  },
  {
   "cell_type": "code",
   "execution_count": null,
   "metadata": {},
   "outputs": [],
   "source": [
    "# Run inference on dataset 2 with industry-standard post-processing\n",
    "if model_files:\n",
    "    print(f'Running inference on dataset 2...')\n",
    "    !python inference.py \\\n",
    "        --checkpoint {latest_model} \\\n",
    "        --model {model_type} \\\n",
    "        --data_dir /content/my-ml-project/inference_data_set2 \\\n",
    "        --norm_method percentile \\\n",
    "        --post_process \\\n",
    "        --min_region_size 50 \\\n",
    "        --smooth_sigma 0.8 \\\n",
    "        --show_edges \\\n",
    "        --output_dir /content/drive/MyDrive/dl-plastics-predictions\n",
    "    \n",
    "    print('\\n✓ Inference complete for dataset 2!')\n",
    "    print('\\nGenerated visualizations:')\n",
    "    print('  - prediction_visualization.png (raw)')\n",
    "    print('  - prediction_filtered_visualization.png (cleaned)')\n",
    "    print('  - prediction_enhanced_labeled.png (with edges & legend)')\n",
    "else:\n",
    "    print('⚠ No model available for inference')"
   ]
  },
  {
   "cell_type": "markdown",
   "metadata": {},
   "source": [
    "## 8. Visualize Results"
   ]
  },
  {
   "cell_type": "code",
   "execution_count": null,
   "metadata": {},
   "outputs": [],
   "source": [
    "# Display prediction visualizations\n",
    "from IPython.display import Image, display\n",
    "import json\n",
    "\n",
    "# Dataset 1\n",
    "print('\\n' + '='*80)\n",
    "print('INFERENCE DATA SET 1 RESULTS')\n",
    "print('='*80)\n",
    "\n",
    "pred_path_1 = '/content/drive/MyDrive/dl-plastics-predictions/inference_data_set1/prediction_visualization.png'\n",
    "stats_path_1 = '/content/drive/MyDrive/dl-plastics-predictions/inference_data_set1/statistics.json'\n",
    "\n",
    "if os.path.exists(pred_path_1):\n",
    "    display(Image(pred_path_1))\n",
    "    \n",
    "    with open(stats_path_1, 'r') as f:\n",
    "        stats1 = json.load(f)\n",
    "    \n",
    "    print(f\"\\nMean Confidence: {stats1['mean_confidence']:.4f}\")\n",
    "    print(\"\\nClass Distribution:\")\n",
    "    for class_name, class_stats in stats1['class_distribution'].items():\n",
    "        if class_stats['percentage'] > 0.01:\n",
    "            print(f\"  {class_name:<15}: {class_stats['percentage']:>6.2f}% (conf: {class_stats['mean_confidence']:.4f})\")\n",
    "else:\n",
    "    print('⚠ Results not found. Run inference first.')\n",
    "\n",
    "# Dataset 2\n",
    "print('\\n' + '='*80)\n",
    "print('INFERENCE DATA SET 2 RESULTS')\n",
    "print('='*80)\n",
    "\n",
    "pred_path_2_raw = '/content/drive/MyDrive/dl-plastics-predictions/inference_data_set2/prediction_visualization.png'\n",
    "pred_path_2_filtered = '/content/drive/MyDrive/dl-plastics-predictions/inference_data_set2/prediction_filtered_visualization.png'\n",
    "pred_path_2_enhanced = '/content/drive/MyDrive/dl-plastics-predictions/inference_data_set2/prediction_enhanced_labeled.png'\n",
    "stats_path_2 = '/content/drive/MyDrive/dl-plastics-predictions/inference_data_set2/statistics.json'\n",
    "\n",
    "if os.path.exists(pred_path_2_raw):\n",
    "    print('\\nRaw Predictions:')\n",
    "    display(Image(pred_path_2_raw))\n",
    "    \n",
    "    if os.path.exists(pred_path_2_filtered):\n",
    "        print('\\nPost-Processed (Cleaned):')\n",
    "        display(Image(pred_path_2_filtered))\n",
    "    \n",
    "    if os.path.exists(pred_path_2_enhanced):\n",
    "        print('\\nEnhanced (with Edges & Legend):')\n",
    "        display(Image(pred_path_2_enhanced))\n",
    "    \n",
    "    with open(stats_path_2, 'r') as f:\n",
    "        stats2 = json.load(f)\n",
    "    \n",
    "    print(f\"\\nMean Confidence: {stats2['mean_confidence']:.4f}\")\n",
    "    print(\"\\nClass Distribution:\")\n",
    "    for class_name, class_stats in stats2['class_distribution'].items():\n",
    "        if class_stats['percentage'] > 0.01:\n",
    "            print(f\"  {class_name:<15}: {class_stats['percentage']:>6.2f}% (conf: {class_stats['mean_confidence']:.4f})\")\n",
    "else:\n",
    "    print('⚠ Results not found. Run inference first.')"
   ]
  },
  {
   "cell_type": "markdown",
   "metadata": {},
   "source": [
    "## 9. Download Results (Optional)\n",
    "\n",
    "Results are already saved to Google Drive, but you can download them to your computer if needed."
   ]
  },
  {
   "cell_type": "code",
   "execution_count": null,
   "metadata": {},
   "outputs": [],
   "source": [
    "# Copy results from Google Drive to local workspace\n",
    "!cp -r /content/drive/MyDrive/dl-plastics-models ./models-backup\n",
    "!cp -r /content/drive/MyDrive/dl-plastics-predictions ./predictions-backup\n",
    "\n",
    "# Zip all results\n",
    "!zip -r results.zip models-backup/ predictions-backup/\n",
    "\n",
    "# Download to your computer\n",
    "from google.colab import files\n",
    "files.download('results.zip')\n",
    "\n",
    "print('\\n✓ Results downloaded!')\n",
    "print('  - models-backup/ : Trained models and training history')\n",
    "print('  - predictions-backup/ : Inference results and visualizations')"
   ]
  },
  {
   "cell_type": "markdown",
   "metadata": {},
   "source": [
    "## 10. Summary\n",
    "\n",
    "**Your models and results are saved in Google Drive:**\n",
    "- Models: `/MyDrive/dl-plastics-models/`\n",
    "- Predictions: `/MyDrive/dl-plastics-predictions/`\n",
    "\n",
    "**Key Features Applied:**\n",
    "1. ✅ Band-wise percentile normalization (2-98%)\n",
    "2. ✅ Gaussian denoising (sigma=0.5) after normalization\n",
    "3. ✅ Spectral augmentation (medium)\n",
    "4. ✅ Industry-standard post-processing:\n",
    "   - Connected component analysis\n",
    "   - Median filtering\n",
    "   - Morphological operations\n",
    "\n",
    "**Next Steps:**\n",
    "- Compare raw vs. post-processed results\n",
    "- Adjust `min_region_size` if needed (smaller = keep more detail, larger = more aggressive noise removal)\n",
    "- Train longer (increase `--epochs`) if results are not satisfactory\n",
    "\n",
    "You can access results anytime from Google Drive!"
   ]
  }
 ],
 "metadata": {
  "kernelspec": {
   "display_name": "Python 3",
   "language": "python",
   "name": "python3"
  },
  "language_info": {
   "name": "python",
   "version": "3.8.10"
  }
 },
 "nbformat": 4,
 "nbformat_minor": 4
}
