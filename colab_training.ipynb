{
 "cells": [
  {
   "cell_type": "markdown",
   "metadata": {},
   "source": [
    "# Hyperspectral Material Classification - Google Colab Training\n",
    "\n",
    "This notebook trains the material classification model on Google Colab GPU.\n",
    "\n",
    "**Before running:**\n",
    "1. Runtime → Change runtime type → GPU (A100 or V100 for Pro+, T4 for free tier)\n",
    "2. Upload your data to Google Drive in folder: `dl-plastics-data`\n",
    "3. Run cells in order\n",
    "\n",
    "**Note:** All models are saved directly to Google Drive to prevent loss on disconnect!"
   ]
  },
  {
   "cell_type": "markdown",
   "metadata": {},
   "source": [
    "## 1. Setup Environment"
   ]
  },
  {
   "cell_type": "code",
   "execution_count": null,
   "metadata": {},
   "outputs": [],
   "source": [
    "# Check GPU availability\n",
    "!nvidia-smi"
   ]
  },
  {
   "cell_type": "code",
   "execution_count": null,
   "metadata": {},
   "outputs": [],
   "source": [
    "# Clone repository\n",
    "!git clone https://github.com/PlugNawapong/my-ml-project.git\n",
    "%cd my-ml-project\n",
    "!pwd  # Verify we're in the right directory"
   ]
  },
  {
   "cell_type": "code",
   "execution_count": null,
   "metadata": {},
   "outputs": [],
   "source": [
    "# Install dependencies\n",
    "!pip install -q torch torchvision tqdm Pillow numpy matplotlib scikit-learn"
   ]
  },
  {
   "cell_type": "markdown",
   "metadata": {},
   "source": [
    "## 2. Mount Google Drive and Load Data"
   ]
  },
  {
   "cell_type": "code",
   "execution_count": null,
   "metadata": {},
   "outputs": [],
   "source": [
    "# Mount Google Drive\n",
    "from google.colab import drive\n",
    "drive.mount('/content/drive')\n",
    "\n",
    "# Create output directory in Google Drive (models will be saved here)\n",
    "!mkdir -p /content/drive/MyDrive/dl-plastics-models\n",
    "!mkdir -p /content/drive/MyDrive/dl-plastics-predictions\n",
    "\n",
    "print('✓ Google Drive mounted')\n",
    "print('✓ Output directories created')"
   ]
  },
  {
   "cell_type": "code",
   "execution_count": null,
   "metadata": {},
   "outputs": [],
   "source": [
    "# Copy data from Google Drive to Colab workspace\n",
    "# ADJUST THE PATH to match your Google Drive folder structure\n",
    "\n",
    "import os\n",
    "\n",
    "# Path to your data in Google Drive\n",
    "drive_data_path = '/content/drive/MyDrive/dl-plastics-data'\n",
    "\n",
    "# Verify data exists\n",
    "if not os.path.exists(drive_data_path):\n",
    "    print(f'⚠ ERROR: {drive_data_path} not found!')\n",
    "    print('Please upload your data to Google Drive first.')\n",
    "else:\n",
    "    print(f'✓ Data folder found: {drive_data_path}')\n",
    "    !ls -la {drive_data_path}\n",
    "\n",
    "# Copy training data\n",
    "if os.path.exists(f'{drive_data_path}/data'):\n",
    "    !cp -r {drive_data_path}/data ./\n",
    "    print('✓ Training data copied')\n",
    "else:\n",
    "    print('⚠ Training data not found at {drive_data_path}/data')\n",
    "\n",
    "# Copy inference datasets\n",
    "if os.path.exists(f'{drive_data_path}/inference_data_set1'):\n",
    "    !cp -r {drive_data_path}/inference_data_set1 ./\n",
    "    print('✓ Inference dataset 1 copied')\n",
    "\n",
    "if os.path.exists(f'{drive_data_path}/inference_data_set2'):\n",
    "    !cp -r {drive_data_path}/inference_data_set2 ./\n",
    "    print('✓ Inference dataset 2 copied')\n",
    "\n",
    "# Verify data is copied\n",
    "print('\\n=== Files in workspace ===')\n",
    "!ls -la"
   ]
  },
  {
   "cell_type": "markdown",
   "metadata": {},
   "source": [
    "## 3. Inspect Data (Optional but Recommended)"
   ]
  },
  {
   "cell_type": "code",
   "execution_count": null,
   "metadata": {},
   "outputs": [],
   "source": [
    "# Inspect training data\n",
    "!python inspect_data.py --data_dir data\n",
    "\n",
    "# Display generated plots\n",
    "from IPython.display import Image, display\n",
    "\n",
    "print('\\n=== Band Visualization ===')\n",
    "display(Image('data_inspection_bands.png'))\n",
    "\n",
    "print('\\n=== Label Visualization ===')\n",
    "display(Image('data_inspection_labels.png'))\n",
    "\n",
    "print('\\n=== Raw Spectral Signatures ===')\n",
    "display(Image('data_inspection_spectra_raw.png'))\n",
    "\n",
    "print('\\n=== Normalized Spectral Signatures (Used in Training) ===')\n",
    "display(Image('data_inspection_spectra_normalized.png'))"
   ]
  },
  {
   "cell_type": "markdown",
   "metadata": {},
   "source": [
    "## 4. Train Model (Saved to Google Drive)\n",
    "\n",
    "**Choose one of the training options below:**\n",
    "\n",
    "All models will be automatically saved to: `/content/drive/MyDrive/dl-plastics-models/`"
   ]
  },
  {
   "cell_type": "markdown",
   "metadata": {},
   "source": [
    "### Option A: Fast 1D CNN with Spectral Augmentation (RECOMMENDED)"
   ]
  },
  {
   "cell_type": "code",
   "execution_count": null,
   "metadata": {},
   "outputs": [],
   "source": "# Fast 1D CNN with spectral augmentation for better generalization\n!python train.py \\\n    --model spectral_cnn_1d \\\n    --epochs 100 \\\n    --batch_size 4096 \\\n    --max_samples_per_class 20000 \\\n    --dropout 0.6 \\\n    --lr 0.001 \\\n    --spectral_augment medium \\\n    --norm_method percentile \\\n    --output_dir /content/drive/MyDrive/dl-plastics-models \\\n    --num_workers 0\n\nprint('\\n✓ Training complete! Model saved to Google Drive.')"
  },
  {
   "cell_type": "markdown",
   "metadata": {},
   "source": [
    "### Option B: Ultra-Fast with 4x4 Binning (For Quick Experiments)"
   ]
  },
  {
   "cell_type": "code",
   "execution_count": null,
   "metadata": {},
   "outputs": [],
   "source": "# Ultra-fast training with binning (16x fewer pixels)\n!python train.py \\\n    --model spectral_cnn_1d \\\n    --epochs 150 \\\n    --batch_size 8192 \\\n    --max_samples_per_class 10000 \\\n    --dropout 0.6 \\\n    --bin_factor 4 \\\n    --spectral_augment heavy \\\n    --norm_method percentile \\\n    --output_dir /content/drive/MyDrive/dl-plastics-models \\\n    --num_workers 0\n\nprint('\\n✓ Training complete! Model saved to Google Drive.')"
  },
  {
   "cell_type": "markdown",
   "metadata": {},
   "source": [
    "### Option C: 2D CNN with Spatial Patches"
   ]
  },
  {
   "cell_type": "code",
   "execution_count": null,
   "metadata": {},
   "outputs": [],
   "source": "!python train.py \\\n    --model spectral_cnn_2d \\\n    --use_patches \\\n    --patch_size 3 \\\n    --epochs 100 \\\n    --batch_size 1024 \\\n    --max_samples_per_class 10000 \\\n    --dropout 0.6 \\\n    --bin_factor 2 \\\n    --norm_method percentile \\\n    --output_dir /content/drive/MyDrive/dl-plastics-models \\\n    --num_workers 0\n\nprint('\\n✓ Training complete! Model saved to Google Drive.')"
  },
  {
   "cell_type": "markdown",
   "metadata": {},
   "source": [
    "### Option D: Hybrid Model (Best Accuracy)"
   ]
  },
  {
   "cell_type": "code",
   "execution_count": null,
   "metadata": {},
   "outputs": [],
   "source": "!python train.py \\\n    --model hybrid \\\n    --use_patches \\\n    --patch_size 5 \\\n    --epochs 150 \\\n    --batch_size 512 \\\n    --max_samples_per_class 10000 \\\n    --dropout 0.6 \\\n    --augment \\\n    --bin_factor 2 \\\n    --norm_method percentile \\\n    --output_dir /content/drive/MyDrive/dl-plastics-models \\\n    --num_workers 0\n\nprint('\\n✓ Training complete! Model saved to Google Drive.')"
  },
  {
   "cell_type": "markdown",
   "metadata": {},
   "source": [
    "## 5. Find and Load Trained Model"
   ]
  },
  {
   "cell_type": "code",
   "execution_count": null,
   "metadata": {},
   "outputs": [],
   "source": [
    "# Find the latest trained model from Google Drive\n",
    "import glob\n",
    "import os\n",
    "\n",
    "# Search for all models in Google Drive\n",
    "model_files = glob.glob('/content/drive/MyDrive/dl-plastics-models/*/best_model.pth')\n",
    "\n",
    "print(f'Found {len(model_files)} model(s):')\n",
    "for m in model_files:\n",
    "    print(f'  - {m}')\n",
    "\n",
    "if model_files:\n",
    "    # Use the most recent model\n",
    "    latest_model = sorted(model_files)[-1]\n",
    "    print(f'\\n✓ Using latest model: {latest_model}')\n",
    "    \n",
    "    # Extract model type from path\n",
    "    if 'spectral_cnn_1d' in latest_model:\n",
    "        model_type = 'spectral_cnn_1d'\n",
    "    elif 'spectral_cnn_2d' in latest_model:\n",
    "        model_type = 'spectral_cnn_2d'\n",
    "    elif 'hybrid' in latest_model:\n",
    "        model_type = 'hybrid'\n",
    "    elif 'resnet' in latest_model:\n",
    "        model_type = 'resnet'\n",
    "    else:\n",
    "        model_type = 'spectral_cnn_1d'  # default\n",
    "    \n",
    "    print(f'Model type: {model_type}')\n",
    "else:\n",
    "    print('\\n⚠ No trained model found!')\n",
    "    print('Please run a training cell first.')"
   ]
  },
  {
   "cell_type": "markdown",
   "metadata": {},
   "source": [
    "## 6. Run Inference on Both Datasets"
   ]
  },
  {
   "cell_type": "code",
   "execution_count": null,
   "metadata": {},
   "outputs": [],
   "source": "# Run inference on inference_data_set1\nif model_files:\n    # Determine if patches are needed\n    use_patches_flag = '--use_patches' if model_type in ['spectral_cnn_2d', 'hybrid', 'resnet'] else ''\n    \n    print(f'Running inference on inference_data_set1...')\n    !python inference.py \\\n        --checkpoint {latest_model} \\\n        --model {model_type} \\\n        {use_patches_flag} \\\n        --data_dir inference_data_set1 \\\n        --norm_method percentile \\\n        --output_dir /content/drive/MyDrive/dl-plastics-predictions\n    \n    print('\\n✓ Inference complete for dataset 1!')\nelse:\n    print('⚠ No model available for inference')"
  },
  {
   "cell_type": "code",
   "execution_count": null,
   "metadata": {},
   "outputs": [],
   "source": "# Run inference on inference_data_set2\nif model_files:\n    use_patches_flag = '--use_patches' if model_type in ['spectral_cnn_2d', 'hybrid', 'resnet'] else ''\n    \n    print(f'Running inference on inference_data_set2...')\n    !python inference.py \\\n        --checkpoint {latest_model} \\\n        --model {model_type} \\\n        {use_patches_flag} \\\n        --data_dir inference_data_set2 \\\n        --norm_method percentile \\\n        --output_dir /content/drive/MyDrive/dl-plastics-predictions\n    \n    print('\\n✓ Inference complete for dataset 2!')\nelse:\n    print('⚠ No model available for inference')"
  },
  {
   "cell_type": "markdown",
   "metadata": {},
   "source": [
    "## 7. Visualize Results"
   ]
  },
  {
   "cell_type": "code",
   "execution_count": null,
   "metadata": {},
   "outputs": [],
   "source": [
    "# Display prediction visualizations\n",
    "from IPython.display import Image, display\n",
    "import json\n",
    "\n",
    "# Dataset 1\n",
    "print('\\n' + '='*80)\n",
    "print('INFERENCE DATA SET 1 RESULTS')\n",
    "print('='*80)\n",
    "\n",
    "pred_path_1 = '/content/drive/MyDrive/dl-plastics-predictions/inference_data_set1/prediction_visualization.png'\n",
    "stats_path_1 = '/content/drive/MyDrive/dl-plastics-predictions/inference_data_set1/statistics.json'\n",
    "\n",
    "if os.path.exists(pred_path_1):\n",
    "    display(Image(pred_path_1))\n",
    "    \n",
    "    with open(stats_path_1, 'r') as f:\n",
    "        stats1 = json.load(f)\n",
    "    \n",
    "    print(f\"\\nMean Confidence: {stats1['mean_confidence']:.4f}\")\n",
    "    print(\"\\nClass Distribution:\")\n",
    "    for class_name, class_stats in stats1['class_distribution'].items():\n",
    "        if class_stats['percentage'] > 0.01:  # Only show classes with >0.01%\n",
    "            print(f\"  {class_name:<15}: {class_stats['percentage']:>6.2f}% (conf: {class_stats['mean_confidence']:.4f})\")\n",
    "else:\n",
    "    print('⚠ Results not found. Run inference first.')\n",
    "\n",
    "# Dataset 2\n",
    "print('\\n' + '='*80)\n",
    "print('INFERENCE DATA SET 2 RESULTS')\n",
    "print('='*80)\n",
    "\n",
    "pred_path_2 = '/content/drive/MyDrive/dl-plastics-predictions/inference_data_set2/prediction_visualization.png'\n",
    "stats_path_2 = '/content/drive/MyDrive/dl-plastics-predictions/inference_data_set2/statistics.json'\n",
    "\n",
    "if os.path.exists(pred_path_2):\n",
    "    display(Image(pred_path_2))\n",
    "    \n",
    "    with open(stats_path_2, 'r') as f:\n",
    "        stats2 = json.load(f)\n",
    "    \n",
    "    print(f\"\\nMean Confidence: {stats2['mean_confidence']:.4f}\")\n",
    "    print(\"\\nClass Distribution:\")\n",
    "    for class_name, class_stats in stats2['class_distribution'].items():\n",
    "        if class_stats['percentage'] > 0.01:\n",
    "            print(f\"  {class_name:<15}: {class_stats['percentage']:>6.2f}% (conf: {class_stats['mean_confidence']:.4f})\")\n",
    "else:\n",
    "    print('⚠ Results not found. Run inference first.')"
   ]
  },
  {
   "cell_type": "markdown",
   "metadata": {},
   "source": [
    "## 8. Download Results (Optional)\n",
    "\n",
    "**Note:** Results are already saved to Google Drive, but you can download them to your computer if needed."
   ]
  },
  {
   "cell_type": "code",
   "execution_count": null,
   "metadata": {},
   "outputs": [],
   "source": [
    "# Copy results from Google Drive to local workspace for download\n",
    "!cp -r /content/drive/MyDrive/dl-plastics-models ./models-backup\n",
    "!cp -r /content/drive/MyDrive/dl-plastics-predictions ./predictions-backup\n",
    "\n",
    "# Zip all results\n",
    "!zip -r results.zip models-backup/ predictions-backup/\n",
    "\n",
    "# Download to your computer\n",
    "from google.colab import files\n",
    "files.download('results.zip')\n",
    "\n",
    "print('\\n✓ Results downloaded!')\n",
    "print('  - models-backup/ : Trained models and training history')\n",
    "print('  - predictions-backup/ : Inference results and visualizations')"
   ]
  },
  {
   "cell_type": "markdown",
   "metadata": {},
   "source": [
    "## 9. Summary\n",
    "\n",
    "**Your models and results are saved in Google Drive:**\n",
    "- Models: `/MyDrive/dl-plastics-models/`\n",
    "- Predictions: `/MyDrive/dl-plastics-predictions/`\n",
    "\n",
    "You can access them anytime, even after this Colab session ends!"
   ]
  }
 ],
 "metadata": {
  "accelerator": "GPU",
  "colab": {
   "gpuType": "A100",
   "provenance": []
  },
  "kernelspec": {
   "display_name": "Python 3",
   "name": "python3"
  },
  "language_info": {
   "name": "python"
  }
 },
 "nbformat": 4,
 "nbformat_minor": 0
}